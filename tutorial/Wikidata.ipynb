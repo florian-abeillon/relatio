{
 "cells": [
  {
   "cell_type": "code",
   "execution_count": 1,
   "id": "ef34aabe",
   "metadata": {
    "ExecuteTime": {
     "end_time": "2022-09-25T18:10:23.737368Z",
     "start_time": "2022-09-25T18:10:23.339940Z"
    }
   },
   "outputs": [],
   "source": [
    "import pandas as pd"
   ]
  },
  {
   "cell_type": "code",
   "execution_count": 2,
   "id": "5b4d5646",
   "metadata": {
    "ExecuteTime": {
     "end_time": "2022-09-25T18:10:33.533146Z",
     "start_time": "2022-09-25T18:10:33.418168Z"
    }
   },
   "outputs": [
    {
     "data": {
      "text/html": [
       "<div>\n",
       "<style scoped>\n",
       "    .dataframe tbody tr th:only-of-type {\n",
       "        vertical-align: middle;\n",
       "    }\n",
       "\n",
       "    .dataframe tbody tr th {\n",
       "        vertical-align: top;\n",
       "    }\n",
       "\n",
       "    .dataframe thead th {\n",
       "        text-align: right;\n",
       "    }\n",
       "</style>\n",
       "<table border=\"1\" class=\"dataframe\">\n",
       "  <thead>\n",
       "    <tr style=\"text-align: right;\">\n",
       "      <th></th>\n",
       "      <th>Unnamed: 0</th>\n",
       "      <th>doc</th>\n",
       "      <th>sentence</th>\n",
       "      <th>statement</th>\n",
       "      <th>ARG0_highdim</th>\n",
       "      <th>ARG0_lowdim</th>\n",
       "      <th>B-V_highdim</th>\n",
       "      <th>B-V_lowdim</th>\n",
       "      <th>B-ARGM-NEG_highdim</th>\n",
       "      <th>B-ARGM-NEG_lowdim</th>\n",
       "      <th>B-ARGM-MOD_highdim</th>\n",
       "      <th>ARG1_highdim</th>\n",
       "      <th>ARG1_lowdim</th>\n",
       "      <th>ARG2_highdim</th>\n",
       "      <th>ARG2_lowdim</th>\n",
       "      <th>B-V_lowdim_with_neg</th>\n",
       "      <th>B-V_highdim_with_neg</th>\n",
       "      <th>narrative_highdim</th>\n",
       "      <th>narrative_lowdim</th>\n",
       "    </tr>\n",
       "  </thead>\n",
       "  <tbody>\n",
       "    <tr>\n",
       "      <th>0</th>\n",
       "      <td>1</td>\n",
       "      <td>98454970654916608</td>\n",
       "      <td>0</td>\n",
       "      <td>1</td>\n",
       "      <td>republican democrat</td>\n",
       "      <td>republican</td>\n",
       "      <td>create</td>\n",
       "      <td>create</td>\n",
       "      <td>NaN</td>\n",
       "      <td>NaN</td>\n",
       "      <td>NaN</td>\n",
       "      <td>economic problem</td>\n",
       "      <td>economy</td>\n",
       "      <td>NaN</td>\n",
       "      <td>NaN</td>\n",
       "      <td>not_create</td>\n",
       "      <td>not_create</td>\n",
       "      <td>republican democrat not_create economic problem</td>\n",
       "      <td>republican not_create economy</td>\n",
       "    </tr>\n",
       "    <tr>\n",
       "      <th>1</th>\n",
       "      <td>6</td>\n",
       "      <td>1234653427789070336</td>\n",
       "      <td>1</td>\n",
       "      <td>6</td>\n",
       "      <td>hardworking american patriot</td>\n",
       "      <td>american</td>\n",
       "      <td>love</td>\n",
       "      <td>know</td>\n",
       "      <td>NaN</td>\n",
       "      <td>NaN</td>\n",
       "      <td>NaN</td>\n",
       "      <td>country</td>\n",
       "      <td>country</td>\n",
       "      <td>NaN</td>\n",
       "      <td>NaN</td>\n",
       "      <td>not_know</td>\n",
       "      <td>not_love</td>\n",
       "      <td>hardworking american patriot not_love country</td>\n",
       "      <td>american not_love country</td>\n",
       "    </tr>\n",
       "    <tr>\n",
       "      <th>2</th>\n",
       "      <td>7</td>\n",
       "      <td>1234653427789070336</td>\n",
       "      <td>1</td>\n",
       "      <td>7</td>\n",
       "      <td>hardworking american patriot</td>\n",
       "      <td>american</td>\n",
       "      <td>cherish</td>\n",
       "      <td>cherish</td>\n",
       "      <td>NaN</td>\n",
       "      <td>NaN</td>\n",
       "      <td>NaN</td>\n",
       "      <td>value</td>\n",
       "      <td>million</td>\n",
       "      <td>NaN</td>\n",
       "      <td>NaN</td>\n",
       "      <td>not_cherish</td>\n",
       "      <td>not_cherish</td>\n",
       "      <td>hardworking american patriot not_cherish value</td>\n",
       "      <td>american not_cherish million</td>\n",
       "    </tr>\n",
       "    <tr>\n",
       "      <th>3</th>\n",
       "      <td>8</td>\n",
       "      <td>1234653427789070336</td>\n",
       "      <td>1</td>\n",
       "      <td>8</td>\n",
       "      <td>hardworking american patriot</td>\n",
       "      <td>american</td>\n",
       "      <td>respect</td>\n",
       "      <td>honor</td>\n",
       "      <td>NaN</td>\n",
       "      <td>NaN</td>\n",
       "      <td>NaN</td>\n",
       "      <td>law</td>\n",
       "      <td>law</td>\n",
       "      <td>NaN</td>\n",
       "      <td>NaN</td>\n",
       "      <td>not_honor</td>\n",
       "      <td>not_respect</td>\n",
       "      <td>hardworking american patriot not_respect law</td>\n",
       "      <td>american not_respect law</td>\n",
       "    </tr>\n",
       "    <tr>\n",
       "      <th>4</th>\n",
       "      <td>9</td>\n",
       "      <td>1234653427789070336</td>\n",
       "      <td>1</td>\n",
       "      <td>9</td>\n",
       "      <td>hardworking american patriot</td>\n",
       "      <td>american</td>\n",
       "      <td>NaN</td>\n",
       "      <td>NaN</td>\n",
       "      <td>NaN</td>\n",
       "      <td>NaN</td>\n",
       "      <td>NaN</td>\n",
       "      <td>america</td>\n",
       "      <td>america</td>\n",
       "      <td>NaN</td>\n",
       "      <td>NaN</td>\n",
       "      <td>not_</td>\n",
       "      <td>not_</td>\n",
       "      <td>hardworking american patriot not_ america</td>\n",
       "      <td>american not_ america</td>\n",
       "    </tr>\n",
       "    <tr>\n",
       "      <th>...</th>\n",
       "      <td>...</td>\n",
       "      <td>...</td>\n",
       "      <td>...</td>\n",
       "      <td>...</td>\n",
       "      <td>...</td>\n",
       "      <td>...</td>\n",
       "      <td>...</td>\n",
       "      <td>...</td>\n",
       "      <td>...</td>\n",
       "      <td>...</td>\n",
       "      <td>...</td>\n",
       "      <td>...</td>\n",
       "      <td>...</td>\n",
       "      <td>...</td>\n",
       "      <td>...</td>\n",
       "      <td>...</td>\n",
       "      <td>...</td>\n",
       "      <td>...</td>\n",
       "      <td>...</td>\n",
       "    </tr>\n",
       "    <tr>\n",
       "      <th>15895</th>\n",
       "      <td>150187</td>\n",
       "      <td>1213149807948312576</td>\n",
       "      <td>68604</td>\n",
       "      <td>150187</td>\n",
       "      <td>career staff</td>\n",
       "      <td>team</td>\n",
       "      <td>NaN</td>\n",
       "      <td>NaN</td>\n",
       "      <td>NaN</td>\n",
       "      <td>NaN</td>\n",
       "      <td>NaN</td>\n",
       "      <td>million excuse possibly stop spending taxpayer...</td>\n",
       "      <td>money</td>\n",
       "      <td>NaN</td>\n",
       "      <td>NaN</td>\n",
       "      <td>not_</td>\n",
       "      <td>not_</td>\n",
       "      <td>career staff not_ million excuse possibly stop...</td>\n",
       "      <td>team not_ money</td>\n",
       "    </tr>\n",
       "    <tr>\n",
       "      <th>15896</th>\n",
       "      <td>150193</td>\n",
       "      <td>1213078681750573056</td>\n",
       "      <td>68606</td>\n",
       "      <td>150193</td>\n",
       "      <td>iran</td>\n",
       "      <td>iran</td>\n",
       "      <td>won</td>\n",
       "      <td>lose</td>\n",
       "      <td>True</td>\n",
       "      <td>NaN</td>\n",
       "      <td>NaN</td>\n",
       "      <td>war</td>\n",
       "      <td>dead</td>\n",
       "      <td>NaN</td>\n",
       "      <td>NaN</td>\n",
       "      <td>not_lose</td>\n",
       "      <td>won</td>\n",
       "      <td>iran won war</td>\n",
       "      <td>iran won dead</td>\n",
       "    </tr>\n",
       "    <tr>\n",
       "      <th>15897</th>\n",
       "      <td>150194</td>\n",
       "      <td>1213078681750573056</td>\n",
       "      <td>68606</td>\n",
       "      <td>150194</td>\n",
       "      <td>iran</td>\n",
       "      <td>iran</td>\n",
       "      <td>lose</td>\n",
       "      <td>win</td>\n",
       "      <td>True</td>\n",
       "      <td>NaN</td>\n",
       "      <td>NaN</td>\n",
       "      <td>negotiation</td>\n",
       "      <td>deal</td>\n",
       "      <td>NaN</td>\n",
       "      <td>NaN</td>\n",
       "      <td>not_win</td>\n",
       "      <td>lose</td>\n",
       "      <td>iran lose negotiation</td>\n",
       "      <td>iran lose deal</td>\n",
       "    </tr>\n",
       "    <tr>\n",
       "      <th>15898</th>\n",
       "      <td>150209</td>\n",
       "      <td>1319384118849949702</td>\n",
       "      <td>68612</td>\n",
       "      <td>150209</td>\n",
       "      <td>obama biden</td>\n",
       "      <td>biden</td>\n",
       "      <td>fail</td>\n",
       "      <td>fail</td>\n",
       "      <td>NaN</td>\n",
       "      <td>NaN</td>\n",
       "      <td>NaN</td>\n",
       "      <td>worker delphi</td>\n",
       "      <td>company</td>\n",
       "      <td>NaN</td>\n",
       "      <td>NaN</td>\n",
       "      <td>not_fail</td>\n",
       "      <td>not_fail</td>\n",
       "      <td>obama biden not_fail worker delphi</td>\n",
       "      <td>biden not_fail company</td>\n",
       "    </tr>\n",
       "    <tr>\n",
       "      <th>15899</th>\n",
       "      <td>150211</td>\n",
       "      <td>1319345719829008387</td>\n",
       "      <td>68614</td>\n",
       "      <td>150211</td>\n",
       "      <td>suburban woman</td>\n",
       "      <td>city</td>\n",
       "      <td>want</td>\n",
       "      <td>want</td>\n",
       "      <td>NaN</td>\n",
       "      <td>NaN</td>\n",
       "      <td>NaN</td>\n",
       "      <td>safety amp security</td>\n",
       "      <td>law</td>\n",
       "      <td>NaN</td>\n",
       "      <td>NaN</td>\n",
       "      <td>not_want</td>\n",
       "      <td>not_want</td>\n",
       "      <td>suburban woman not_want safety amp security</td>\n",
       "      <td>city not_want law</td>\n",
       "    </tr>\n",
       "  </tbody>\n",
       "</table>\n",
       "<p>15900 rows × 19 columns</p>\n",
       "</div>"
      ],
      "text/plain": [
       "       Unnamed: 0                  doc  sentence  statement  \\\n",
       "0               1    98454970654916608         0          1   \n",
       "1               6  1234653427789070336         1          6   \n",
       "2               7  1234653427789070336         1          7   \n",
       "3               8  1234653427789070336         1          8   \n",
       "4               9  1234653427789070336         1          9   \n",
       "...           ...                  ...       ...        ...   \n",
       "15895      150187  1213149807948312576     68604     150187   \n",
       "15896      150193  1213078681750573056     68606     150193   \n",
       "15897      150194  1213078681750573056     68606     150194   \n",
       "15898      150209  1319384118849949702     68612     150209   \n",
       "15899      150211  1319345719829008387     68614     150211   \n",
       "\n",
       "                       ARG0_highdim ARG0_lowdim B-V_highdim B-V_lowdim  \\\n",
       "0               republican democrat  republican      create     create   \n",
       "1      hardworking american patriot    american        love       know   \n",
       "2      hardworking american patriot    american     cherish    cherish   \n",
       "3      hardworking american patriot    american     respect      honor   \n",
       "4      hardworking american patriot    american         NaN        NaN   \n",
       "...                             ...         ...         ...        ...   \n",
       "15895                  career staff        team         NaN        NaN   \n",
       "15896                          iran        iran         won       lose   \n",
       "15897                          iran        iran        lose        win   \n",
       "15898                   obama biden       biden        fail       fail   \n",
       "15899                suburban woman        city        want       want   \n",
       "\n",
       "      B-ARGM-NEG_highdim B-ARGM-NEG_lowdim B-ARGM-MOD_highdim  \\\n",
       "0                    NaN               NaN                NaN   \n",
       "1                    NaN               NaN                NaN   \n",
       "2                    NaN               NaN                NaN   \n",
       "3                    NaN               NaN                NaN   \n",
       "4                    NaN               NaN                NaN   \n",
       "...                  ...               ...                ...   \n",
       "15895                NaN               NaN                NaN   \n",
       "15896               True               NaN                NaN   \n",
       "15897               True               NaN                NaN   \n",
       "15898                NaN               NaN                NaN   \n",
       "15899                NaN               NaN                NaN   \n",
       "\n",
       "                                            ARG1_highdim ARG1_lowdim  \\\n",
       "0                                       economic problem     economy   \n",
       "1                                                country     country   \n",
       "2                                                  value     million   \n",
       "3                                                    law         law   \n",
       "4                                                america     america   \n",
       "...                                                  ...         ...   \n",
       "15895  million excuse possibly stop spending taxpayer...       money   \n",
       "15896                                                war        dead   \n",
       "15897                                        negotiation        deal   \n",
       "15898                                      worker delphi     company   \n",
       "15899                                safety amp security         law   \n",
       "\n",
       "      ARG2_highdim ARG2_lowdim B-V_lowdim_with_neg B-V_highdim_with_neg  \\\n",
       "0              NaN         NaN          not_create           not_create   \n",
       "1              NaN         NaN            not_know             not_love   \n",
       "2              NaN         NaN         not_cherish          not_cherish   \n",
       "3              NaN         NaN           not_honor          not_respect   \n",
       "4              NaN         NaN                not_                 not_   \n",
       "...            ...         ...                 ...                  ...   \n",
       "15895          NaN         NaN                not_                 not_   \n",
       "15896          NaN         NaN            not_lose                  won   \n",
       "15897          NaN         NaN             not_win                 lose   \n",
       "15898          NaN         NaN            not_fail             not_fail   \n",
       "15899          NaN         NaN            not_want             not_want   \n",
       "\n",
       "                                       narrative_highdim  \\\n",
       "0        republican democrat not_create economic problem   \n",
       "1          hardworking american patriot not_love country   \n",
       "2         hardworking american patriot not_cherish value   \n",
       "3           hardworking american patriot not_respect law   \n",
       "4              hardworking american patriot not_ america   \n",
       "...                                                  ...   \n",
       "15895  career staff not_ million excuse possibly stop...   \n",
       "15896                                       iran won war   \n",
       "15897                              iran lose negotiation   \n",
       "15898                 obama biden not_fail worker delphi   \n",
       "15899        suburban woman not_want safety amp security   \n",
       "\n",
       "                    narrative_lowdim  \n",
       "0      republican not_create economy  \n",
       "1          american not_love country  \n",
       "2       american not_cherish million  \n",
       "3           american not_respect law  \n",
       "4              american not_ america  \n",
       "...                              ...  \n",
       "15895                team not_ money  \n",
       "15896                  iran won dead  \n",
       "15897                 iran lose deal  \n",
       "15898         biden not_fail company  \n",
       "15899              city not_want law  \n",
       "\n",
       "[15900 rows x 19 columns]"
      ]
     },
     "execution_count": 2,
     "metadata": {},
     "output_type": "execute_result"
    }
   ],
   "source": [
    "df = pd.read_csv('complete_narratives.csv')\n",
    "df"
   ]
  },
  {
   "cell_type": "code",
   "execution_count": null,
   "id": "4ab8ee8a",
   "metadata": {},
   "outputs": [],
   "source": []
  },
  {
   "cell_type": "code",
   "execution_count": null,
   "id": "9e42b1f9",
   "metadata": {},
   "outputs": [],
   "source": []
  },
  {
   "cell_type": "code",
   "execution_count": null,
   "id": "82593a9a",
   "metadata": {},
   "outputs": [],
   "source": []
  },
  {
   "cell_type": "code",
   "execution_count": null,
   "id": "d69d46e1",
   "metadata": {},
   "outputs": [],
   "source": []
  },
  {
   "cell_type": "code",
   "execution_count": 1,
   "id": "dd9acc7c",
   "metadata": {
    "ExecuteTime": {
     "end_time": "2022-07-16T18:01:13.008947Z",
     "start_time": "2022-07-16T18:00:54.471172Z"
    }
   },
   "outputs": [
    {
     "data": {
      "text/plain": [
       "<spacyopentapioca.entity_linker.EntityLinker at 0x105fb0c10>"
      ]
     },
     "execution_count": 1,
     "metadata": {},
     "output_type": "execute_result"
    }
   ],
   "source": [
    "import re\n",
    "import requests\n",
    "import spacy\n",
    "\n",
    "nlp = spacy.load(\"en_core_web_sm\")\n",
    "nlp.add_pipe('opentapioca')"
   ]
  },
  {
   "cell_type": "code",
   "execution_count": 2,
   "id": "683de8a1",
   "metadata": {
    "ExecuteTime": {
     "end_time": "2022-07-16T18:01:13.684193Z",
     "start_time": "2022-07-16T18:01:13.014677Z"
    }
   },
   "outputs": [
    {
     "data": {
      "text/plain": [
       "Republicans and Democrats have both created our economic problems. Donald Trump didn't."
      ]
     },
     "execution_count": 2,
     "metadata": {},
     "output_type": "execute_result"
    }
   ],
   "source": [
    "text = \"Republicans and Democrats have both created our economic problems. Donald Trump didn't.\"\n",
    "text = nlp(text)\n",
    "text"
   ]
  },
  {
   "cell_type": "code",
   "execution_count": 3,
   "id": "86ae17a7",
   "metadata": {
    "ExecuteTime": {
     "end_time": "2022-07-16T18:01:13.692931Z",
     "start_time": "2022-07-16T18:01:13.688460Z"
    }
   },
   "outputs": [],
   "source": [
    "URL = 'https://query.wikidata.org/sparql'\n",
    "    \n",
    "QUERY = \"\"\"\n",
    "SELECT ?p_iri \n",
    "       ( SAMPLE(?p_label) AS ?p_label )\n",
    "       ( GROUP_CONCAT( DISTINCT ?o ; SEPARATOR = \"|\" ) AS ?o_list )\n",
    "\n",
    "WHERE {{\n",
    "  {{\n",
    "  \n",
    "    SELECT ?p_iri   ?o_iri\n",
    "           ?p_label ?o_label\n",
    "           ( IF( ISIRI(?o_iri), CONCAT( ?o_label, \"\\\\\\\\\", STR(?o_iri) ), ?o_label ) AS ?o )\n",
    "                  \n",
    "    WHERE {{\n",
    "    \n",
    "      {} ?p ?o_iri .\n",
    "      FILTER( !STRSTARTS( STR(?o_iri), \"http://www.wikidata.org/entity/statement/\" ) )\n",
    "      ?p_iri wikibase:claim|wikibase:directClaim ?p .\n",
    "\n",
    "      SERVICE wikibase:label {{\n",
    "          bd:serviceParam wikibase:language \"en\" .\n",
    "          ?p_iri rdfs:label ?p_label .\n",
    "          ?o_iri rdfs:label ?o_label .\n",
    "      }}\n",
    "      \n",
    "    }}\n",
    "    \n",
    "  }}\n",
    "}}\n",
    "\n",
    "GROUP BY ?p_iri\n",
    "\"\"\""
   ]
  },
  {
   "cell_type": "code",
   "execution_count": 4,
   "id": "5c25793d",
   "metadata": {
    "ExecuteTime": {
     "end_time": "2022-07-16T18:01:13.710614Z",
     "start_time": "2022-07-16T18:01:13.700188Z"
    }
   },
   "outputs": [],
   "source": [
    "class WdObject:\n",
    "    \"\"\" Wikidata object \"\"\"\n",
    "    \n",
    "    def __init__(self, label: str, iri: str = \"\"):\n",
    "        self.label = label\n",
    "        \n",
    "        if iri:\n",
    "            self.is_attr = False\n",
    "            self.iri = self.format_iri(iri)\n",
    "            self.has_prefix = iri != self.iri\n",
    "        else:\n",
    "            self.is_attr = True\n",
    "            self.iri = \"\"\n",
    "            self.has_prefix = False\n",
    "            \n",
    "    @staticmethod\n",
    "    def format_iri(iri: str) -> str:\n",
    "        \"\"\" Format IRI with appropriate prefix (if known) \"\"\"\n",
    "        return iri.replace(\"http://www.wikidata.org/entity/\", \"wd:\")\n",
    "        \n",
    "    def __repr__(self) -> str:\n",
    "        return self.label\n",
    "    def __str__(self) -> str:\n",
    "        return self.label\n",
    "    \n",
    "    def __hash__(self) -> str:\n",
    "        return hash(self.iri if self.iri else self.label)"
   ]
  },
  {
   "cell_type": "code",
   "execution_count": 5,
   "id": "7e76881a",
   "metadata": {
    "ExecuteTime": {
     "end_time": "2022-07-16T18:01:13.858659Z",
     "start_time": "2022-07-16T18:01:13.713696Z"
    }
   },
   "outputs": [],
   "source": [
    "class NamedEntity:\n",
    "    \"\"\" Named entity extracted from text, enriched with Wikidata information \"\"\"\n",
    "    \n",
    "    def __init__(self, ent):\n",
    "        self.label = ent.text\n",
    "        self.type = ent.label_\n",
    "        self.desc = ent._.description\n",
    "        \n",
    "        self.wid = ent.kb_id_\n",
    "        self.iri = \"wd:\" + self.wid\n",
    "        self.wd_ent = WdObject(self.label, self.iri)\n",
    "        \n",
    "        self.query = QUERY.format(self.iri)\n",
    "        self.attrs, self.rels = {}, {}\n",
    "        self.links = {}\n",
    "        \n",
    "    def __repr__(self) -> str:\n",
    "        return self.label\n",
    "    def __str__(self) -> str:\n",
    "        return self.label\n",
    "                \n",
    "                \n",
    "    def clean_attrs(self) -> None:\n",
    "        \"\"\" Clean fetched attributes \"\"\"\n",
    "        to_del = []\n",
    "        \n",
    "        for p, o_list in self.attrs.items():\n",
    "            \n",
    "            if (\n",
    "                # If attr is an ID\n",
    "                re.findall(\"ID( *\\(.*\\))? *$\", p.label) or\n",
    "                p.label.isupper() or\n",
    "                # TODO: To improve\n",
    "                # If attr is a mixture of letters and numbers (likely not informative)\n",
    "                (\n",
    "                    o_list[0].label[0].isalpha() and\n",
    "                    any(( not all(( char.isalpha() for char in o.label )) for o in o_list ))\n",
    "                ) or\n",
    "                (\n",
    "                    o_list[0].label[0].isnumeric() and\n",
    "                    any(( not all(( char.isnumeric() for char in o.label )) for o in o_list ))\n",
    "                )\n",
    "            ):\n",
    "                to_del.append(p)\n",
    "                continue\n",
    "                \n",
    "        for p in to_del:\n",
    "            del self.attrs[p]\n",
    "        \n",
    "    \n",
    "    def query_ent(self) -> None:\n",
    "        \"\"\" Query WikiData knowledge base to enrich entity \"\"\"\n",
    "        \n",
    "        params = { 'format': 'json', 'query': self.query }\n",
    "        res = requests.get(URL, params=params)\n",
    "        res = res.json()['results']['bindings']\n",
    "        \n",
    "        for r in res:\n",
    "            \n",
    "            p = WdObject(r['p_label']['value'], r['p_iri']['value'])\n",
    "            o_list = r['o_list']['value'].split('|')\n",
    "            \n",
    "            rels, attrs = [], []\n",
    "            for o in o_list:\n",
    "                o = WdObject(*o.split(\"\\\\\"))\n",
    "                if o.is_attr:\n",
    "                    attrs.append(o)\n",
    "                else:\n",
    "                    rels.append(o)\n",
    "                    \n",
    "            if rels:\n",
    "                self.rels[p] = rels\n",
    "            elif attrs:\n",
    "                self.attrs[p] = attrs\n",
    "                \n",
    "        self.clean_attrs()\n",
    "                \n",
    "                \n",
    "    def link_ents(self, ents: dict) -> None:\n",
    "        \"\"\" Link to other named entities \"\"\"\n",
    "        for p, o_list in self.rels.items():\n",
    "            for o in o_list:\n",
    "                if o.iri in ents:\n",
    "                    self.links[p] = o\n",
    "                    \n",
    "    def stringify_ents(self) -> None:\n",
    "        \"\"\" Stringify relations to other entities that are not found elsewhere \"\"\"\n",
    "        for p, o_list in self.rels.items():\n",
    "            if p not in self.links:\n",
    "                for o in o_list:\n",
    "                    self.attrs[p] = WdObject(o.label)\n",
    "                    \n",
    "                \n",
    "    def get_triples(self, doubles: dict, prettify: bool = True, attrs: bool = False) -> list:\n",
    "        \"\"\" Format triples from list of predicate * objects \"\"\"\n",
    "        \n",
    "        format_triple = lambda triple: (\n",
    "            triple if prettify else \n",
    "            ( s.iri, p.iri, o ) if attrs else \n",
    "            ( el.iri for el in triple )\n",
    "        )\n",
    "        \n",
    "        triples = []\n",
    "        for p, o in doubles.items():\n",
    "            \n",
    "            if isinstance(o, list):\n",
    "                triples.extend([ \n",
    "                    format_triple(( self.wd_ent, p, el ))\n",
    "                    for el in o \n",
    "                ])\n",
    "            else:\n",
    "                triple = format_triple(( self.wd_ent, p, o ))\n",
    "                triples.append(triple)\n",
    "                \n",
    "        return triples\n",
    "    \n",
    "    def get_rels(self, prettify: bool = True) -> list:\n",
    "        \"\"\" Return formatted relations to other entities \"\"\"\n",
    "        return self.get_triples(self.rels, prettify=prettify)\n",
    "    \n",
    "    def get_attrs(self, prettify: bool = True) -> list:\n",
    "        \"\"\" Return formatted attributes \"\"\"\n",
    "        return self.get_triples(self.attrs, prettify=prettify, attrs=True)\n",
    "    \n",
    "    def get_links(self, prettify: bool = True) -> list:\n",
    "        \"\"\" Return formatted links to other entities found in text \"\"\"\n",
    "        return self.get_triples(self.links, prettify=prettify)\n"
   ]
  },
  {
   "cell_type": "code",
   "execution_count": 6,
   "id": "e32db823",
   "metadata": {
    "ExecuteTime": {
     "end_time": "2022-07-16T18:01:19.353108Z",
     "start_time": "2022-07-16T18:01:13.861857Z"
    }
   },
   "outputs": [
    {
     "data": {
      "text/plain": [
       "{'wd:Q29468': Republicans, 'wd:Q29552': Democrats, 'wd:Q22686': Donald Trump}"
      ]
     },
     "execution_count": 6,
     "metadata": {},
     "output_type": "execute_result"
    }
   ],
   "source": [
    "ents = {}\n",
    "\n",
    "for ent in text.ents:\n",
    "    ent = NamedEntity(ent)\n",
    "    ent.query_ent()\n",
    "    ents[\"wd:\" + ent.wid] = ent\n",
    "    \n",
    "ents"
   ]
  },
  {
   "cell_type": "code",
   "execution_count": 7,
   "id": "02def1e3",
   "metadata": {
    "ExecuteTime": {
     "end_time": "2022-07-16T18:01:19.360487Z",
     "start_time": "2022-07-16T18:01:19.355828Z"
    }
   },
   "outputs": [
    {
     "name": "stdout",
     "output_type": "stream",
     "text": [
      "Republicans\n",
      "{opposite of: Democratic Party}\n",
      "\n",
      "Democrats\n",
      "{opposite of: Republican Party}\n",
      "\n",
      "Donald Trump\n",
      "{member of political party: Republican Party}\n",
      "\n"
     ]
    }
   ],
   "source": [
    "for ent in ents.values():\n",
    "    ent.link_ents(ents)\n",
    "    ent.stringify_ents()\n",
    "    print(ent)\n",
    "    print(ent.links)\n",
    "    print()"
   ]
  },
  {
   "cell_type": "code",
   "execution_count": 8,
   "id": "d2282bfb",
   "metadata": {
    "ExecuteTime": {
     "end_time": "2022-07-16T18:01:19.368314Z",
     "start_time": "2022-07-16T18:01:19.364791Z"
    }
   },
   "outputs": [],
   "source": [
    "ent = ents['wd:Q29468']"
   ]
  },
  {
   "cell_type": "code",
   "execution_count": 15,
   "id": "3bcd4902",
   "metadata": {
    "ExecuteTime": {
     "end_time": "2022-08-01T20:56:01.146617Z",
     "start_time": "2022-08-01T20:56:01.087300Z"
    },
    "scrolled": true
   },
   "outputs": [
    {
     "data": {
      "text/plain": [
       "[(Republicans, country, United States of America),\n",
       " (Republicans, instance of, political party),\n",
       " (Republicans, founded by, Whig Party),\n",
       " (Republicans, founded by, Free Soil Party),\n",
       " (Republicans, follows, Whig Party),\n",
       " (Republicans, follows, Free Soil Party),\n",
       " (Republicans, followed by, Radical Democracy Party),\n",
       " (Republicans, headquarters location, Washington, D.C.),\n",
       " (Republicans,\n",
       "  logo image,\n",
       "  http://commons.wikimedia.org/wiki/Special:FilePath/GOP%20logo.svg),\n",
       " (Republicans, official website, https://www.gop.com/),\n",
       " (Republicans, opposite of, Democratic Party),\n",
       " (Republicans, color, red),\n",
       " (Republicans, member of, International Democrat Union),\n",
       " (Republicans, chairperson, Ronna Romney McDaniel),\n",
       " (Republicans, mascot, Republican Elephant),\n",
       " (Republicans,\n",
       "  topic's main category,\n",
       "  Category:Republican Party (United States)),\n",
       " (Republicans, political ideology, conservatism),\n",
       " (Republicans, political ideology, neoliberalism),\n",
       " (Republicans, political ideology, neoconservatism),\n",
       " (Republicans, political ideology, American exceptionalism),\n",
       " (Republicans, political ideology, economic liberalism),\n",
       " (Republicans, political ideology, national conservatism),\n",
       " (Republicans, political ideology, federalism in the United States),\n",
       " (Republicans, political ideology, social conservatism),\n",
       " (Republicans, described by source, The Nuttall Encyclopædia),\n",
       " (Republicans, replaces, Unconditional Union Party),\n",
       " (Republicans, political alignment, right-wing),\n",
       " (Republicans, different from, American Republican Party),\n",
       " (Republicans,\n",
       "  history of topic,\n",
       "  history of the United States Republican Party),\n",
       " (Republicans, official symbol, elephant),\n",
       " (Republicans, official color, red),\n",
       " (Republicans, member category, Category:Republicans (United States))]"
      ]
     },
     "execution_count": 15,
     "metadata": {},
     "output_type": "execute_result"
    }
   ],
   "source": [
    "rels = ent.get_rels()\n",
    "rels"
   ]
  },
  {
   "cell_type": "code",
   "execution_count": 17,
   "id": "d5ecd9aa",
   "metadata": {
    "ExecuteTime": {
     "end_time": "2022-08-01T20:56:21.999123Z",
     "start_time": "2022-08-01T20:56:21.989916Z"
    }
   },
   "outputs": [
    {
     "data": {
      "text/plain": [
       "'wd:P31'"
      ]
     },
     "execution_count": 17,
     "metadata": {},
     "output_type": "execute_result"
    }
   ],
   "source": [
    "rels[1][1].iri"
   ]
  },
  {
   "cell_type": "code",
   "execution_count": 20,
   "id": "b27f5e81",
   "metadata": {
    "ExecuteTime": {
     "end_time": "2022-08-01T20:59:47.153258Z",
     "start_time": "2022-08-01T20:59:47.144637Z"
    }
   },
   "outputs": [
    {
     "data": {
      "text/plain": [
       "'wd:P461'"
      ]
     },
     "execution_count": 20,
     "metadata": {},
     "output_type": "execute_result"
    }
   ],
   "source": [
    "rels[10][1].iri"
   ]
  },
  {
   "cell_type": "code",
   "execution_count": 10,
   "id": "9f9002e4",
   "metadata": {
    "ExecuteTime": {
     "end_time": "2022-07-16T18:01:19.388458Z",
     "start_time": "2022-07-16T18:01:19.383442Z"
    },
    "scrolled": true
   },
   "outputs": [
    {
     "data": {
      "text/plain": [
       "[(Republicans, opposite of, Democratic Party)]"
      ]
     },
     "execution_count": 10,
     "metadata": {},
     "output_type": "execute_result"
    }
   ],
   "source": [
    "ent.get_links()"
   ]
  },
  {
   "cell_type": "code",
   "execution_count": 11,
   "id": "b54af52b",
   "metadata": {
    "ExecuteTime": {
     "end_time": "2022-07-16T18:01:19.398094Z",
     "start_time": "2022-07-16T18:01:19.391288Z"
    },
    "scrolled": true
   },
   "outputs": [
    {
     "data": {
      "text/plain": [
       "[(Republicans, number of seats in legislature, 52),\n",
       " (Republicans, number of seats in legislature, 211),\n",
       " (Republicans, member count, 68049840),\n",
       " (Republicans, social media followers, 2786834),\n",
       " (Republicans, short name, R),\n",
       " (Republicans, short name, GOP),\n",
       " (Republicans, Twitter username, GOP),\n",
       " (Republicans, Instagram username, gop),\n",
       " (Republicans, Giphy username, gop),\n",
       " (Republicans, country, United States of America),\n",
       " (Republicans, instance of, political party),\n",
       " (Republicans, founded by, Free Soil Party),\n",
       " (Republicans, follows, Free Soil Party),\n",
       " (Republicans, followed by, Radical Democracy Party),\n",
       " (Republicans, headquarters location, Washington, D.C.),\n",
       " (Republicans,\n",
       "  logo image,\n",
       "  http://commons.wikimedia.org/wiki/Special:FilePath/GOP%20logo.svg),\n",
       " (Republicans, official website, https://www.gop.com/),\n",
       " (Republicans, color, red),\n",
       " (Republicans, member of, International Democrat Union),\n",
       " (Republicans, chairperson, Ronna Romney McDaniel),\n",
       " (Republicans, mascot, Republican Elephant),\n",
       " (Republicans,\n",
       "  topic's main category,\n",
       "  Category:Republican Party (United States)),\n",
       " (Republicans, political ideology, social conservatism),\n",
       " (Republicans, described by source, The Nuttall Encyclopædia),\n",
       " (Republicans, replaces, Unconditional Union Party),\n",
       " (Republicans, political alignment, right-wing),\n",
       " (Republicans, different from, American Republican Party),\n",
       " (Republicans,\n",
       "  history of topic,\n",
       "  history of the United States Republican Party),\n",
       " (Republicans, official symbol, elephant),\n",
       " (Republicans, official color, red),\n",
       " (Republicans, member category, Category:Republicans (United States))]"
      ]
     },
     "execution_count": 11,
     "metadata": {},
     "output_type": "execute_result"
    }
   ],
   "source": [
    "ent.get_attrs()"
   ]
  },
  {
   "cell_type": "code",
   "execution_count": null,
   "id": "538bd931",
   "metadata": {},
   "outputs": [],
   "source": []
  },
  {
   "cell_type": "code",
   "execution_count": null,
   "id": "bcd31205",
   "metadata": {},
   "outputs": [],
   "source": []
  },
  {
   "cell_type": "code",
   "execution_count": null,
   "id": "7d1e6ba2",
   "metadata": {},
   "outputs": [],
   "source": []
  },
  {
   "cell_type": "code",
   "execution_count": 12,
   "id": "e3417114",
   "metadata": {
    "ExecuteTime": {
     "end_time": "2022-07-16T18:01:19.404240Z",
     "start_time": "2022-07-16T18:01:19.400477Z"
    }
   },
   "outputs": [],
   "source": [
    "# Useless, opentapioca already spots entities\n",
    "QUERY_ENTS = \"\"\"\n",
    "SELECT ?p ?rank \n",
    "       ( COUNT(?s) + COUNT(?o) AS ?score )\n",
    "\n",
    "WHERE {{\n",
    "  \n",
    "  SERVICE wikibase:mwapi {{\n",
    "      bd:serviceParam wikibase:endpoint \"www.wikidata.org\" ;\n",
    "                      wikibase:api \"EntitySearch\" ;\n",
    "                      wikibase:limit 10 ;\n",
    "                      mwapi:search \"father\" ;\n",
    "                      mwapi:language \"en\" .\n",
    "      ?p wikibase:apiOutputItem mwapi:item .\n",
    "      ?rank wikibase:apiOrdinal true .\n",
    "  }}\n",
    "  \n",
    "  VALUES ?ent {ents}\n",
    "  OPTIONAL {{ ?ent ?p ?o }} \n",
    "  OPTIONAL {{ ?s ?p ?ent }}\n",
    "  \n",
    "}}\n",
    "\n",
    "GROUP BY ?p ?rank\n",
    "ORDER BY ?score ?rank\n",
    "\"\"\""
   ]
  }
 ],
 "metadata": {
  "kernelspec": {
   "display_name": "Python 3 (ipykernel)",
   "language": "python",
   "name": "python3"
  },
  "language_info": {
   "codemirror_mode": {
    "name": "ipython",
    "version": 3
   },
   "file_extension": ".py",
   "mimetype": "text/x-python",
   "name": "python",
   "nbconvert_exporter": "python",
   "pygments_lexer": "ipython3",
   "version": "3.8.9"
  },
  "toc": {
   "base_numbering": 1,
   "nav_menu": {},
   "number_sections": true,
   "sideBar": true,
   "skip_h1_title": false,
   "title_cell": "Table of Contents",
   "title_sidebar": "Contents",
   "toc_cell": false,
   "toc_position": {},
   "toc_section_display": true,
   "toc_window_display": false
  },
  "varInspector": {
   "cols": {
    "lenName": 16,
    "lenType": 16,
    "lenVar": 40
   },
   "kernels_config": {
    "python": {
     "delete_cmd_postfix": "",
     "delete_cmd_prefix": "del ",
     "library": "var_list.py",
     "varRefreshCmd": "print(var_dic_list())"
    },
    "r": {
     "delete_cmd_postfix": ") ",
     "delete_cmd_prefix": "rm(",
     "library": "var_list.r",
     "varRefreshCmd": "cat(var_dic_list()) "
    }
   },
   "types_to_exclude": [
    "module",
    "function",
    "builtin_function_or_method",
    "instance",
    "_Feature"
   ],
   "window_display": false
  }
 },
 "nbformat": 4,
 "nbformat_minor": 5
}
